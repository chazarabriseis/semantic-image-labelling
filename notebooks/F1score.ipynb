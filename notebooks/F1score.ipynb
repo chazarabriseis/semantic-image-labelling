{
 "cells": [
  {
   "cell_type": "code",
   "execution_count": 62,
   "metadata": {
    "collapsed": true
   },
   "outputs": [],
   "source": [
    "import matplotlib.pyplot as plt\n",
    "import numpy as np\n",
    "import os\n",
    "from PIL import Image\n",
    "import glob\n",
    "from sklearn import metrics\n"
   ]
  },
  {
   "cell_type": "code",
   "execution_count": 63,
   "metadata": {
    "collapsed": true
   },
   "outputs": [],
   "source": [
    "def getCenterLabel(pixel):\n",
    "    \"\"\"\n",
    "    outside = red = (255,0,0)\n",
    "    inside = green = (255,255,0)\n",
    "    lumen = yellow = (0,255,0)\n",
    "    catheder shadow = blue = (0,0,255)\n",
    "    artery wall = turquisw = (0,255,255)\n",
    "    stent = pink = (255,0,255)\n",
    "    \n",
    "    input: RGB value of pixel\n",
    "    output: integer between 1-5 represnting a class described above\n",
    "    \"\"\"\n",
    "    pixel = tuple(pixel)\n",
    "    rgb2label = {(255,0,0):0, (255,255,0):1, (0,255,0):2, \n",
    "                    (0,0,255):3, (0,255,255):4, (255,0,255):5}\n",
    "    return rgb2label.get(pixel, 6)"
   ]
  },
  {
   "cell_type": "code",
   "execution_count": null,
   "metadata": {
    "collapsed": true
   },
   "outputs": [],
   "source": [
    "def crop_image(image, size):\n",
    "    '''Crop sized centre of image  \n",
    "    \n",
    "    :param PIL image image: image to be cropped\n",
    "    :return: cropped image\n",
    "    :rtype: PIL image\n",
    "    '''\n",
    "    factor = (1-size)/2\n",
    "    width, height = image.size\n",
    "    box = factor*width,factor*height,(1-factor)*width,(1-factor)*height\n",
    "    return image.crop(box)"
   ]
  },
  {
   "cell_type": "code",
   "execution_count": 75,
   "metadata": {
    "collapsed": false
   },
   "outputs": [],
   "source": [
    "cwd_eval = '/Users/jbaldauf/Documents/Tensorflow/OCT-project/Data/resulst_from_flow/'\n",
    "cwd_data = '/Users/jbaldauf/Documents/Tensorflow/OCT-project/Data/Data_all/Multiple/'\n",
    "image = 60\n",
    "box_size = 48\n",
    "data_gt_name = 'Image0%s.png'%str(image)\n",
    "data_cnn_name = 'Image0%s_cnn_1_%s.png'%(str(image), str(box_size))\n",
    "data_cnn_em_name = 'Image0%s_cnn_em_1_%s.png'%(str(image), str(box_size))"
   ]
  },
  {
   "cell_type": "code",
   "execution_count": 83,
   "metadata": {
    "collapsed": false
   },
   "outputs": [],
   "source": [
    "dataset = {}\n",
    "dataset['im_gt'] = np.asarray(crop_image(Image.open(cwd_data + data_gt_name),0.6))\n",
    "dataset['im_cnn'] = np.asarray(crop_image(Image.open(cwd_eval + data_cnn_name),0.6))\n",
    "dataset['im_cnn_em'] = np.asarray(crop_image(Image.open(cwd_eval + data_cnn_em_name),0.6))\n",
    "\n",
    "for data in dataset:\n",
    "    dataset[data] = dataset[data].reshape(-1,3)\n",
    "    dataset[data] = [getCenterLabel(dataset[data][i]) for i in xrange(len(dataset[data]))]\n"
   ]
  },
  {
   "cell_type": "code",
   "execution_count": 84,
   "metadata": {
    "collapsed": false
   },
   "outputs": [
    {
     "name": "stderr",
     "output_type": "stream",
     "text": [
      "/usr/local/lib/python2.7/site-packages/sklearn/metrics/classification.py:1074: UndefinedMetricWarning: F-score is ill-defined and being set to 0.0 in labels with no predicted samples.\n",
      "  'precision', 'predicted', average, warn_for)\n"
     ]
    },
    {
     "data": {
      "text/plain": [
       "array([ 0.8958454 ,  0.91450894,  0.89603748,  0.83882187,  0.58259474,\n",
       "        0.561425  ,  0.        ])"
      ]
     },
     "execution_count": 84,
     "metadata": {},
     "output_type": "execute_result"
    }
   ],
   "source": [
    "metrics.f1_score(dataset['im_gt'], dataset['im_cnn'], average= None)"
   ]
  },
  {
   "cell_type": "code",
   "execution_count": 85,
   "metadata": {
    "collapsed": false
   },
   "outputs": [
    {
     "data": {
      "text/plain": [
       "array([ 0.90449483,  0.92448675,  0.91370808,  0.86016425,  0.58557283,\n",
       "        0.60124547,  0.        ])"
      ]
     },
     "execution_count": 85,
     "metadata": {},
     "output_type": "execute_result"
    }
   ],
   "source": [
    "metrics.f1_score(dataset['im_gt'], dataset['im_cnn_em'], average= None)"
   ]
  },
  {
   "cell_type": "code",
   "execution_count": 81,
   "metadata": {
    "collapsed": false
   },
   "outputs": [
    {
     "data": {
      "text/plain": [
       "array([ 0.44632079,  0.91450894,  0.89603748,  0.83882187,  0.58259474,\n",
       "        0.561425  ,  0.50022054])"
      ]
     },
     "execution_count": 81,
     "metadata": {},
     "output_type": "execute_result"
    }
   ],
   "source": [
    "metrics.f1_score(dataset['im_gt'], dataset['im_cnn'], average= None)"
   ]
  },
  {
   "cell_type": "code",
   "execution_count": 82,
   "metadata": {
    "collapsed": false
   },
   "outputs": [
    {
     "data": {
      "text/plain": [
       "array([ 0.45218214,  0.92448675,  0.91370808,  0.86016425,  0.58557283,\n",
       "        0.60124547,  0.50022054])"
      ]
     },
     "execution_count": 82,
     "metadata": {},
     "output_type": "execute_result"
    }
   ],
   "source": [
    "metrics.f1_score(dataset['im_gt'], dataset['im_cnn_em'], average= None)"
   ]
  },
  {
   "cell_type": "code",
   "execution_count": 88,
   "metadata": {
    "collapsed": false
   },
   "outputs": [
    {
     "data": {
      "text/plain": [
       "{}"
      ]
     },
     "execution_count": 88,
     "metadata": {},
     "output_type": "execute_result"
    }
   ],
   "source": [
    "dataset"
   ]
  },
  {
   "cell_type": "code",
   "execution_count": 51,
   "metadata": {
    "collapsed": true
   },
   "outputs": [],
   "source": [
    "def crop_image(image, size):\n",
    "    '''Crop sized centre of image  \n",
    "    \n",
    "    :param PIL image image: image to be cropped\n",
    "    :return: cropped image\n",
    "    :rtype: PIL image\n",
    "    '''\n",
    "    factor = (1-size)/2\n",
    "    width, height = image.size\n",
    "    box = factor*width,factor*height,(1-factor)*width,(1-factor)*height\n",
    "    return image.crop(box)"
   ]
  },
  {
   "cell_type": "code",
   "execution_count": 52,
   "metadata": {
    "collapsed": false
   },
   "outputs": [],
   "source": [
    "size=0.6\n",
    "img_label = crop_image(img_label,size)"
   ]
  },
  {
   "cell_type": "code",
   "execution_count": 55,
   "metadata": {
    "collapsed": false
   },
   "outputs": [],
   "source": [
    "img_label = Image.open(cwd_eval + 'Image001.png')\n",
    "old_size = img_label.size\n",
    "img_label = img_label.transform((224,224), Image.EXTENT, (0,0,old_size[0],old_size[1]))"
   ]
  },
  {
   "cell_type": "markdown",
   "metadata": {
    "collapsed": true
   },
   "source": [
    "##Converting image size in cm to pixel for ppt"
   ]
  },
  {
   "cell_type": "code",
   "execution_count": 61,
   "metadata": {
    "collapsed": false
   },
   "outputs": [
    {
     "data": {
      "text/plain": [
       "[0.20128000000000001,\n",
       " 0.25160000000000005,\n",
       " 0.30192,\n",
       " 0.35224,\n",
       " 0.40256000000000003,\n",
       " 0.45288000000000006,\n",
       " 0.5032000000000001]"
      ]
     },
     "execution_count": 61,
     "metadata": {},
     "output_type": "execute_result"
    }
   ],
   "source": [
    "w_cm = 12.58\n",
    "w_pix = 1500\n",
    "sizes_pix =[24,30,36,42,48,54,60]\n",
    "sizes_cm = [(w_cm/w_pix)*pix for pix in sizes_pix]\n",
    "sizes_cm"
   ]
  },
  {
   "cell_type": "code",
   "execution_count": 43,
   "metadata": {
    "collapsed": false
   },
   "outputs": [],
   "source": [
    "cwd_eval = '/Users/jbaldauf/Documents/admin/pollinateEnergy/'\n",
    "img_label = Image.open(cwd_eval + 'julia.jpg')"
   ]
  },
  {
   "cell_type": "code",
   "execution_count": 45,
   "metadata": {
    "collapsed": false
   },
   "outputs": [
    {
     "ename": "NameError",
     "evalue": "name 'crop_image' is not defined",
     "output_type": "error",
     "traceback": [
      "\u001b[0;31m---------------------------------------------------------------------------\u001b[0m",
      "\u001b[0;31mNameError\u001b[0m                                 Traceback (most recent call last)",
      "\u001b[0;32m<ipython-input-45-df19b0df8a24>\u001b[0m in \u001b[0;36m<module>\u001b[0;34m()\u001b[0m\n\u001b[0;32m----> 1\u001b[0;31m \u001b[0mcrop_image\u001b[0m\u001b[0;34m(\u001b[0m\u001b[0mimage\u001b[0m\u001b[0;34m,\u001b[0m \u001b[0msize\u001b[0m\u001b[0;34m)\u001b[0m\u001b[0;34m\u001b[0m\u001b[0m\n\u001b[0m",
      "\u001b[0;31mNameError\u001b[0m: name 'crop_image' is not defined"
     ]
    }
   ],
   "source": [
    "crop_image(image, size)"
   ]
  },
  {
   "cell_type": "code",
   "execution_count": null,
   "metadata": {
    "collapsed": true
   },
   "outputs": [],
   "source": []
  },
  {
   "cell_type": "markdown",
   "metadata": {},
   "source": [
    "##understand pickeling limit and work around it"
   ]
  },
  {
   "cell_type": "code",
   "execution_count": 3,
   "metadata": {
    "collapsed": false
   },
   "outputs": [],
   "source": [
    "test_rand = np.random.random((1000,90,90,3))\n"
   ]
  },
  {
   "cell_type": "code",
   "execution_count": 4,
   "metadata": {
    "collapsed": true
   },
   "outputs": [],
   "source": [
    "test_rand = test_rand.__reduce__()"
   ]
  },
  {
   "cell_type": "code",
   "execution_count": 13,
   "metadata": {
    "collapsed": false
   },
   "outputs": [
    {
     "data": {
      "text/plain": [
       "(numpy.ndarray, (0,), 'b')"
      ]
     },
     "execution_count": 13,
     "metadata": {},
     "output_type": "execute_result"
    }
   ],
   "source": [
    "test_rand[1]"
   ]
  },
  {
   "cell_type": "code",
   "execution_count": 8,
   "metadata": {
    "collapsed": true
   },
   "outputs": [],
   "source": [
    "def save_pickeldata(train_images, pickle_file):\n",
    "    '''Save dataset of images and labels in pickle format\n",
    "\n",
    "    :param np.float32 images: RGB images with shape (training_size, input_size, input_size, 3)\n",
    "    :param np.float32 labels: labels with shape (training_size, num_labels)\n",
    "    :param str pickle_file: path and filename to save to\n",
    "    '''\n",
    "    try:\n",
    "        f = open(pickle_file, 'wb')\n",
    "        save = {\n",
    "            'images': test_rand,\n",
    "            }\n",
    "        pickle.dump(save, f, pickle.HIGHEST_PROTOCOL)\n",
    "        f.close()\n",
    "    except Exception as e:\n",
    "        print('Unable to save data to', pickle_file, ':', e)\n",
    "        raise\n",
    "    statinfo = os.stat(pickle_file)\n",
    "    print('Compressed pickle size:', statinfo.st_size)\n"
   ]
  },
  {
   "cell_type": "code",
   "execution_count": 9,
   "metadata": {
    "collapsed": false
   },
   "outputs": [
    {
     "name": "stdout",
     "output_type": "stream",
     "text": [
      "('Compressed pickle size:', 194400173)\n"
     ]
    }
   ],
   "source": [
    "cwd_eval = '/Users/jbaldauf/Documents/admin/pollinateEnergy/'\n",
    "os.chdir(cwd_eval)\n",
    "save_pickeldata(test_rand,'test.pickle')"
   ]
  },
  {
   "cell_type": "code",
   "execution_count": 10,
   "metadata": {
    "collapsed": true
   },
   "outputs": [],
   "source": [
    "def load_data(pickle_file):\n",
    "\t'''Loads data prepared for this model from a pickle file\n",
    "\t\n",
    "\t:param str pickle_file: name of file to be loaded\n",
    "\t:param str cwd: path to file\n",
    "\t:return: images: images with shape (data_size, input_size, input_size, 3)\n",
    "\t:rtype: np.float32\n",
    "\t:return: labels: labels with shape (data_size, num_labels)\n",
    "\t:rtype: np.float32\n",
    "\t'''\n",
    "\twith open(pickle_file, 'rb') as f:\n",
    "\t\tsave = pickle.load(f)\n",
    "\t\timages = save['images']\n",
    "\t\tdel save  # hint to help gc free up memory\n",
    "\t\tprint('All images and labels', images.shape, labels.shape)\n",
    "\treturn images, labels"
   ]
  },
  {
   "cell_type": "code",
   "execution_count": 11,
   "metadata": {
    "collapsed": false
   },
   "outputs": [
    {
     "ename": "AttributeError",
     "evalue": "'tuple' object has no attribute 'shape'",
     "output_type": "error",
     "traceback": [
      "\u001b[0;31m---------------------------------------------------------------------------\u001b[0m",
      "\u001b[0;31mAttributeError\u001b[0m                            Traceback (most recent call last)",
      "\u001b[0;32m<ipython-input-11-d493ed969194>\u001b[0m in \u001b[0;36m<module>\u001b[0;34m()\u001b[0m\n\u001b[0;32m----> 1\u001b[0;31m \u001b[0mload_data\u001b[0m\u001b[0;34m(\u001b[0m\u001b[0;34m'test.pickle'\u001b[0m\u001b[0;34m)\u001b[0m\u001b[0;34m\u001b[0m\u001b[0m\n\u001b[0m",
      "\u001b[0;32m<ipython-input-10-9b790c66e70f>\u001b[0m in \u001b[0;36mload_data\u001b[0;34m(pickle_file)\u001b[0m\n\u001b[1;32m     13\u001b[0m                 \u001b[0mimages\u001b[0m \u001b[0;34m=\u001b[0m \u001b[0msave\u001b[0m\u001b[0;34m[\u001b[0m\u001b[0;34m'images'\u001b[0m\u001b[0;34m]\u001b[0m\u001b[0;34m\u001b[0m\u001b[0m\n\u001b[1;32m     14\u001b[0m                 \u001b[0;32mdel\u001b[0m \u001b[0msave\u001b[0m  \u001b[0;31m# hint to help gc free up memory\u001b[0m\u001b[0;34m\u001b[0m\u001b[0m\n\u001b[0;32m---> 15\u001b[0;31m                 \u001b[0;32mprint\u001b[0m\u001b[0;34m(\u001b[0m\u001b[0;34m'All images and labels'\u001b[0m\u001b[0;34m,\u001b[0m \u001b[0mimages\u001b[0m\u001b[0;34m.\u001b[0m\u001b[0mshape\u001b[0m\u001b[0;34m,\u001b[0m \u001b[0mlabels\u001b[0m\u001b[0;34m.\u001b[0m\u001b[0mshape\u001b[0m\u001b[0;34m)\u001b[0m\u001b[0;34m\u001b[0m\u001b[0m\n\u001b[0m\u001b[1;32m     16\u001b[0m         \u001b[0;32mreturn\u001b[0m \u001b[0mimages\u001b[0m\u001b[0;34m,\u001b[0m \u001b[0mlabels\u001b[0m\u001b[0;34m\u001b[0m\u001b[0m\n",
      "\u001b[0;31mAttributeError\u001b[0m: 'tuple' object has no attribute 'shape'"
     ]
    }
   ],
   "source": [
    "load_data('test.pickle')"
   ]
  },
  {
   "cell_type": "code",
   "execution_count": null,
   "metadata": {
    "collapsed": true
   },
   "outputs": [],
   "source": []
  }
 ],
 "metadata": {
  "kernelspec": {
   "display_name": "Python 2",
   "language": "python",
   "name": "python2"
  },
  "language_info": {
   "codemirror_mode": {
    "name": "ipython",
    "version": 2
   },
   "file_extension": ".py",
   "mimetype": "text/x-python",
   "name": "python",
   "nbconvert_exporter": "python",
   "pygments_lexer": "ipython2",
   "version": "2.7.11"
  }
 },
 "nbformat": 4,
 "nbformat_minor": 0
}
