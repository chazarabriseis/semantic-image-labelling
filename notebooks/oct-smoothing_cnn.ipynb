{
 "cells": [
  {
   "cell_type": "code",
   "execution_count": 71,
   "metadata": {
    "collapsed": false
   },
   "outputs": [],
   "source": [
    "import matplotlib.pyplot as plt\n",
    "import numpy as np\n",
    "from pygco import cut_simple, cut_from_graph\n",
    "import os\n",
    "from PIL import Image\n",
    "import glob\n",
    "from sklearn import metrics\n",
    "#import matplotlib as mplt\n",
    "from matplotlib import cm\n"
   ]
  },
  {
   "cell_type": "code",
   "execution_count": 72,
   "metadata": {
    "collapsed": true
   },
   "outputs": [],
   "source": [
    "def convert_to_colour(input_array):\n",
    "    '''Converts array in image with oct colour code\n",
    "\n",
    "    :param double input_array: array of image pixels\n",
    "    :retrun: image with oct colour code\n",
    "    :rtye: PIL image\n",
    "    '''\n",
    "    im = Image.fromarray(np.uint8(cm.rainbow(input_array)*255))\n",
    "    x,y = im.size\n",
    "    im_index = im.load()\n",
    "    label_new = []\n",
    "    for i in xrange(x):\n",
    "        for j in xrange(y):\n",
    "            rgb =  (im_index[j,i][0],im_index[j,i][1],im_index[j,i][2])\n",
    "            label_new.append(get_label_from_rgb_em(rgb))\n",
    "    im_new = Image.new('RGB',size)\n",
    "    im_new.putdata(label_new)\n",
    "    return im_new\n",
    "\n",
    "\n",
    "def vectorized_result(j,num_label):\n",
    "    '''Convert number to 1-hot-encoding vector\n",
    "    \n",
    "    :param int j: label\n",
    "    :param int num_label: number of classes determining length of vector\n",
    "    :return: num_label-dimensional unit vector with a 1.0 in the jth\n",
    "    :rtype: int\n",
    "    '''\n",
    "    e = np.zeros((num_label, 1))\n",
    "    e[int(j)] = 1\n",
    "    return e\n",
    "\n",
    "\n",
    "def smoothing_oct(unaries):\n",
    "    '''Apply energy minimization from http://peekaboo-vision.blogspot.com.au/2012/05/graphcuts-for-python-pygco.html\n",
    "\n",
    "    :param int unaries: array of labels\n",
    "    :return: smoothend labels\n",
    "    :rtype: int\n",
    "    '''\n",
    "    label_num = unaries.shape[2]\n",
    "    x = np.argmin(unaries, axis=2)\n",
    "    pott_potential = -1000 * np.eye(label_num, dtype=np.int32)\n",
    "    return cut_simple(unaries, pott_potential)\n",
    "\n",
    "    \n",
    "def apply_em(pic_prediction_cnn):\n",
    "    '''Smoothening image applying energy minimization\n",
    "\n",
    "    :param PIL image pic_prediction: image with prediction from cnn\n",
    "    :return: smoothened image\n",
    "    :rtype: PIL image\n",
    "    '''\n",
    "    print(\"Applying energy minimization\")\n",
    "    size = pic_prediction_cnn.size\n",
    "    labels_cnn = np.asarray(pic_prediction_cnn).reshape(-1,3)\n",
    "    labels_cnn = [vectorized_result(get_label_from_rgb(labels_cnn[i]),7) for i in xrange(len(labels_cnn))]\n",
    "    labels_cnn = np.asarray(labels_cnn)\n",
    "    labels_cnn = (labels_cnn.reshape(int(size[0]),int(size[1]),7)*(-100)).astype(np.int32)\n",
    "    return convert_to_colour(smoothing_oct(labels_cnn))\n",
    "\n",
    "def get_label_from_rgb_em(pixel):\n",
    "    '''Convert RGB pixel to label\n",
    "\n",
    "    outside = red = (255,0,0) = 0\n",
    "    lumen = yellow = (255,255,0) = 1\n",
    "    inside = green = (0,255,0) = 2\n",
    "    catheder shadow = blue = (0,0,255) = 3\n",
    "    artery wall = turquise = (0,255,255) = 4 \n",
    "    stent = pink = (255,0,255) = 5\n",
    "    \n",
    "    :param int pixel: tuple of RGB value of pixel\n",
    "    :return: label representing a class described above\n",
    "    :rtype: int\n",
    "    '''\n",
    "    pixel = tuple(pixel)\n",
    "    rgb2label = {(115, 18, 254):(0,0,0), (127, 0, 255):(255,0,0), (123, 6, 254):(0,255,0), \n",
    "                    (119, 12, 254):(0,255,255), (125, 3, 254):(255,255,0), \n",
    "                    (117, 15, 254):(255,0,255), (121, 9, 254):(0,0,255)}\n",
    "    return rgb2label[pixel]"
   ]
  },
  {
   "cell_type": "code",
   "execution_count": 73,
   "metadata": {
    "collapsed": false
   },
   "outputs": [],
   "source": [
    "cwd_eval = '/Users/jbaldauf/Documents/Tensorflow/OCT-project/Data/first_results/'\n",
    "pic_prediction_cnn = Image.open(cwd_eval + '1Image036_zoom.png')"
   ]
  },
  {
   "cell_type": "code",
   "execution_count": 79,
   "metadata": {
    "collapsed": false
   },
   "outputs": [
    {
     "name": "stdout",
     "output_type": "stream",
     "text": [
      "Applying energy minimization\n"
     ]
    },
    {
     "data": {
      "image/png": "[encoded data removed]",
      "text/plain": [
       "<PIL.Image.Image image mode=RGB size=900x900 at 0x109EEC750>"
      ]
     },
     "execution_count": 79,
     "metadata": {},
     "output_type": "execute_result"
    }
   ],
   "source": [
    "test = apply_em(pic_prediction_cnn)\n",
    "test"
   ]
  },
  {
   "cell_type": "code",
   "execution_count": null,
   "metadata": {
    "collapsed": true
   },
   "outputs": [],
   "source": []
  }
 ],
 "metadata": {
  "kernelspec": {
   "display_name": "Python 2",
   "language": "python",
   "name": "python2"
  },
  "language_info": {
   "codemirror_mode": {
    "name": "ipython",
    "version": 2
   },
   "file_extension": ".py",
   "mimetype": "text/x-python",
   "name": "python",
   "nbconvert_exporter": "python",
   "pygments_lexer": "ipython2",
   "version": "2.7.11"
  }
 },
 "nbformat": 4,
 "nbformat_minor": 0
}
