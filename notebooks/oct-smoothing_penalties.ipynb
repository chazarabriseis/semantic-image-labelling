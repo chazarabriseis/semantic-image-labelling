{
 "cells": [
  {
   "cell_type": "code",
   "execution_count": 1,
   "metadata": {
    "collapsed": false
   },
   "outputs": [],
   "source": [
    "from PIL import Image\n",
    "import matplotlib.pyplot as plt\n",
    "import numpy as np\n",
    "from pygco import cut_simple\n",
    "import os\n",
    "import glob"
   ]
  },
  {
   "cell_type": "code",
   "execution_count": 2,
   "metadata": {
    "collapsed": false
   },
   "outputs": [
    {
     "data": {
      "text/plain": [
       "(115, 18, 254)"
      ]
     },
     "execution_count": 2,
     "metadata": {},
     "output_type": "execute_result"
    }
   ],
   "source": [
    "115,  18, 254"
   ]
  },
  {
   "cell_type": "code",
   "execution_count": 3,
   "metadata": {
    "collapsed": true
   },
   "outputs": [],
   "source": [
    "def getCenterLabel(pixel):\n",
    "    \"\"\"\n",
    "    background = black = (0,0,0)\n",
    "    outside = red = (255,0,0)\n",
    "    inside = green = (255,255,0)\n",
    "    lumen = yellow = (0,255,0)\n",
    "    catheder shadow = blue = (0,0,255)\n",
    "    artery wall = turquisw = (0,255,255)\n",
    "    stent = pink = (255,0,255)\n",
    "    \n",
    "    input: RGB value of pixel\n",
    "    output: integer between 1-5 represnting a class described above\n",
    "    \"\"\"\n",
    "    pixel = tuple(pixel)\n",
    "    rgb2label = {(115,  18, 254):0, (255,255,0):1, (0,255,0):2, \n",
    "                    (0,0,255):3, (0,255,255):4, (255,0,255):5}\n",
    "    return rgb2label.get(pixel, 6)\n"
   ]
  },
  {
   "cell_type": "code",
   "execution_count": 10,
   "metadata": {
    "collapsed": true
   },
   "outputs": [],
   "source": [
    "def pot_penalizing(unaries):\n",
    "    # potts potential\n",
    "    label_num = unaries.shape[2]\n",
    "    x = np.argmin(unaries, axis=2)\n",
    "    # potential that penalizes 0-1 and 1-2 less thann 0-2\n",
    "    A = -1000\n",
    "    B = 800\n",
    "    pairwise_1d = A * np.eye(label_num, dtype=np.int32) - B\n",
    "    pairwise_1d[3, 5] = 0\n",
    "    pairwise_1d[5, 3] = 0\n",
    "    pairwise_1d[0, 5] = 0\n",
    "    pairwise_1d[5, 0] = 0\n",
    "    pairwise_1d[1, 5] = 0\n",
    "    pairwise_1d[5, 1] = 0\n",
    "    pairwise_1d[0, 3] = 0\n",
    "    pairwise_1d[3, 0] = 0\n",
    "    pairwise_1d[1, 4] = 0\n",
    "    pairwise_1d[4, 1] = 0\n",
    "    pairwise_1d[0, 1] = 0\n",
    "    pairwise_1d[1, 0] = 0\n",
    "    pairwise_1d[2, 1] = -B/2\n",
    "    pairwise_1d[1, 2] = -B/2\n",
    "    pairwise_1d\n",
    "    print(pairwise_1d)\n",
    "    result = cut_simple(unaries, pairwise_1d)\n",
    "    plt.subplot(131, title=\"original\")\n",
    "    plt.imshow(x, interpolation=\"nearest\")\n",
    "    plt.subplot(133, title=\"potts potentials penalizing\")\n",
    "    plt.imshow(result, interpolation=\"nearest\")\n",
    "    plt.show()\n",
    "    "
   ]
  },
  {
   "cell_type": "code",
   "execution_count": 5,
   "metadata": {
    "collapsed": true
   },
   "outputs": [],
   "source": [
    "def makevector(labels, num_labels):\n",
    "    labels = np.asarray(labels)\n",
    "    return (np.arange(num_labels) == labels[:,None]).astype(np.float32)"
   ]
  },
  {
   "cell_type": "code",
   "execution_count": 6,
   "metadata": {
    "collapsed": false
   },
   "outputs": [],
   "source": [
    "def vectorized_result(j,num_label):\n",
    "    \"\"\"Return a 5-dimensional unit vector with a 1.0 in the jth\n",
    "    position and zeroes elsewhere.  This is used to convert a digit\n",
    "    (0...9) into a corresponding desired output from the neural\n",
    "    network.\"\"\"\n",
    "    e = np.zeros((num_label, 1))\n",
    "    e[int(j)] = 1\n",
    "    return e"
   ]
  },
  {
   "cell_type": "code",
   "execution_count": 7,
   "metadata": {
    "collapsed": false
   },
   "outputs": [],
   "source": [
    "cwd_eval = '/Users/jbaldauf/Documents/Tensorflow/OCT-project/Data/first_results/'\n",
    "img1 = np.asarray(Image.open(cwd_eval + '1Image064_zoom.png'))\n",
    "img1 = img1.reshape(-1,3)\n",
    "num_labels = 7\n",
    "img1 = [vectorized_result(getCenterLabel(img1[i]),7) for i in xrange(len(img1))]\n",
    "img1 = np.asarray(img1)\n",
    "unaries = (img1.reshape(900,900,7)*(-100)).astype(np.int32)\n",
    "#unaries = (unaries + 0.5 * np.random.normal(size=unaries.shape)).astype(np.int32)"
   ]
  },
  {
   "cell_type": "code",
   "execution_count": 8,
   "metadata": {
    "collapsed": false
   },
   "outputs": [],
   "source": [
    "def smoothing_oct(unaries):\n",
    "    #number of labels:\n",
    "    n_disps = unaries.shape[2]\n",
    "    #shape of the input image\n",
    "    newshape = unaries.shape[:2]\n",
    "    \n",
    "    #print newshape\n",
    "    #array([[-5,  0,  0,  0,  0,  0],\n",
    "    #   [ 0, -5,  0,  0,  0,  0],\n",
    "    #   [ 0,  0, -5,  0,  0,  0],\n",
    "    #   [ 0,  0,  0, -5,  0,  0],\n",
    "    #   [ 0,  0,  0,  0, -5,  0],\n",
    "    #   [ 0,  0,  0,  0,  0, -5]], dtype=int32)\n",
    "    potts_cut = cut_simple(unaries, -1000 * np.eye(n_disps, dtype=np.int32), algorithm = 'expansion')\n",
    "    \n",
    "    # x  = array([[0],    y = array([[0, 1, 2, 3, 4, 5]])\n",
    "    #   [1],\n",
    "    #   [2],\n",
    "    #   [3],\n",
    "    #   [4],\n",
    "    #   [5]])\n",
    "    x, y = np.ogrid[:n_disps, :n_disps]\n",
    "    \n",
    "    #create an array\n",
    "    #array([[0, 1, 2, 3, 4, 5],\n",
    "    #   [1, 0, 1, 2, 3, 4],\n",
    "    #   [2, 1, 0, 1, 2, 3],\n",
    "    #   [3, 2, 1, 0, 1, 2],\n",
    "    #   [4, 3, 2, 1, 0, 1],\n",
    "    #   [5, 4, 3, 2, 1, 0]])\n",
    "    one_d_topology = np.abs(x - y).astype(np.int32).copy(\"C\")\n",
    "    one_d_cut = cut_simple(unaries, 300 * one_d_topology)\n",
    "    \n",
    "    #return potts_cut.reshape(newshape)\n",
    "    plt.subplot(131, xticks=(), yticks=())\n",
    "    plt.imshow(np.argmin(unaries, axis=2), interpolation='nearest')\n",
    "    plt.subplot(132, xticks=(), yticks=())\n",
    "    plt.imshow(potts_cut.reshape(newshape), interpolation='nearest')\n",
    "    plt.subplot(133, xticks=(), yticks=())\n",
    "    plt.imshow(one_d_cut.reshape(newshape), interpolation='nearest')\n",
    "    plt.show()"
   ]
  },
  {
   "cell_type": "code",
   "execution_count": null,
   "metadata": {
    "collapsed": false
   },
   "outputs": [
    {
     "name": "stdout",
     "output_type": "stream",
     "text": [
      "[[-1800     0  -800     0  -800     0  -800]\n",
      " [    0 -1800  -400  -800     0     0  -800]\n",
      " [ -800  -400 -1800  -800  -800  -800  -800]\n",
      " [    0  -800  -800 -1800  -800     0  -800]\n",
      " [ -800     0  -800  -800 -1800  -800  -800]\n",
      " [    0     0  -800     0  -800 -1800  -800]\n",
      " [ -800  -800  -800  -800  -800  -800 -1800]]\n"
     ]
    }
   ],
   "source": [
    "test = pot_penalizing(unaries)\n"
   ]
  },
  {
   "cell_type": "code",
   "execution_count": null,
   "metadata": {
    "collapsed": false
   },
   "outputs": [],
   "source": [
    "cwd_raw = '/Users/jbaldauf/Documents/Tensorflow/OCT-project/Data/Trainingdata/Raw/'\n",
    "cwd_label = '/Users/jbaldauf/Documents/Tensorflow/OCT-project/Data/Trainingdata/Multiple/'\n",
    "cwd_save = '/Users/jbaldauf/Documents/Tensorflow/OCT-project/Data'\n",
    "\n",
    "box_size = 12\n",
    "\n",
    "data_train = sorted(glob.glob1(cwd_save,'*'))\n",
    "print data_train"
   ]
  },
  {
   "cell_type": "code",
   "execution_count": 13,
   "metadata": {
    "collapsed": true
   },
   "outputs": [],
   "source": [
    "smoothing_oct(unaries)\n"
   ]
  },
  {
   "cell_type": "code",
   "execution_count": 14,
   "metadata": {
    "collapsed": false
   },
   "outputs": [
    {
     "data": {
      "text/plain": [
       "(900, 900)"
      ]
     },
     "execution_count": 14,
     "metadata": {},
     "output_type": "execute_result"
    }
   ],
   "source": [
    "test.shape\n"
   ]
  },
  {
   "cell_type": "code",
   "execution_count": null,
   "metadata": {
    "collapsed": true
   },
   "outputs": [],
   "source": []
  }
 ],
 "metadata": {
  "kernelspec": {
   "display_name": "Python 2",
   "language": "python",
   "name": "python2"
  },
  "language_info": {
   "codemirror_mode": {
    "name": "ipython",
    "version": 2
   },
   "file_extension": ".py",
   "mimetype": "text/x-python",
   "name": "python",
   "nbconvert_exporter": "python",
   "pygments_lexer": "ipython2",
   "version": "2.7.11"
  }
 },
 "nbformat": 4,
 "nbformat_minor": 0
}
